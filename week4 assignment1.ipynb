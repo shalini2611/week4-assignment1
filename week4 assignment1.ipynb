{
 "cells": [
  {
   "cell_type": "markdown",
   "id": "88272e3c-e553-4b10-9ece-4511663dcc4a",
   "metadata": {},
   "source": [
    "## Question 1: Create a vehicle class with an init method having instance variables as name_of_vehicle, max_speed and average_of_vehicle."
   ]
  },
  {
   "cell_type": "code",
   "execution_count": 1,
   "id": "f1d423a0",
   "metadata": {},
   "outputs": [
    {
     "name": "stdout",
     "output_type": "stream",
     "text": [
      "audi\n",
      "333\n",
      "20\n"
     ]
    }
   ],
   "source": [
    "class vehicle :\n",
    "    def __init__(self,name_of_vehicle,max_speed,average_of_vehicle):\n",
    "        self.name_of_vehicle=name_of_vehicle\n",
    "        self.max_speed=max_speed\n",
    "        self.average_of_vehicle=average_of_vehicle\n",
    "        \n",
    "o=vehicle(\"audi\",333,20)\n",
    "print(o.name_of_vehicle)\n",
    "print(o.max_speed)\n",
    "print(o.average_of_vehicle)"
   ]
  },
  {
   "cell_type": "markdown",
   "id": "2cb9e09c-60ac-4568-859d-182387975a08",
   "metadata": {},
   "source": [
    "## Question 2: Create a child class car from the vehicle class created in Que 1, which will inherit the vehicle class.Create a method named seating_capacity which takes capacity as an argument and returns the name of the vehicle and its seating capacity.\n"
   ]
  },
  {
   "cell_type": "code",
   "execution_count": 2,
   "id": "e3831c24",
   "metadata": {},
   "outputs": [
    {
     "data": {
      "text/plain": [
       "('fortuner', 4)"
      ]
     },
     "execution_count": 2,
     "metadata": {},
     "output_type": "execute_result"
    }
   ],
   "source": [
    "class child(vehicle):\n",
    "    def seating_capacity(self,capacity):\n",
    "        self.capacity=capacity\n",
    "        return self.name_of_vehicle,self.capacity\n",
    "    \n",
    "o=child(\"fortuner\",333,20)\n",
    "o.seating_capacity(4)"
   ]
  },
  {
   "cell_type": "markdown",
   "id": "477431f0-8b6d-4592-8693-ff39a8f8fb70",
   "metadata": {},
   "source": [
    "## Question 3: What is multiple inheritance? Write a python code to demonstrate multiple inheritance.\n",
    "\n",
    "\n",
    "Multiple inheritance is a feature of object-oriented programming where a subclass can inherit from more than one parent class. This allows the subclass to have all of the attributes and methods of both parent classes.\n",
    "\n",
    "Here's an example..."
   ]
  },
  {
   "cell_type": "code",
   "execution_count": 3,
   "id": "e2204f0b",
   "metadata": {},
   "outputs": [
    {
     "name": "stdout",
     "output_type": "stream",
     "text": [
      "pwskills\n",
      "shalini\n",
      "data science\n"
     ]
    }
   ],
   "source": [
    "class class1:\n",
    "    def a(self):\n",
    "        print(\"pwskills\")\n",
    "        \n",
    "class class2 :\n",
    "    def b(self):\n",
    "        print(\"shalini\")\n",
    "        \n",
    "class class3(class1,class2):\n",
    "    def c(self):\n",
    "        print(\"data science\")\n",
    "        \n",
    "obj=class3()\n",
    "obj.a()\n",
    "obj.b()\n",
    "obj.c()"
   ]
  },
  {
   "cell_type": "markdown",
   "id": "7f13f18f-e629-4013-95ba-131c3f0e8169",
   "metadata": {},
   "source": [
    "## Question 4 : What are getter and setter in python? Create a class and create a getter and a setter method in this class.\n",
    "\n",
    "\n",
    "1.Getters: These are the methods used in Object-Oriented Programming (OOPS) which helps to access the private attributes from a **class**.\n",
    "2.Setters : These are the methods used in OOPS feature which helps to set the value to private attributes in a **class**.\n"
   ]
  },
  {
   "cell_type": "code",
   "execution_count": 64,
   "id": "80d84946",
   "metadata": {},
   "outputs": [
    {
     "name": "stdout",
     "output_type": "stream",
     "text": [
      "2023\n",
      "toyota \n",
      "\n",
      "2022\n",
      "ford\n"
     ]
    }
   ],
   "source": [
    "class car:\n",
    "    def __init__(self,year,make):\n",
    "        self.__year=year\n",
    "        self.__make=make\n",
    "        \n",
    "        \n",
    "    def get_year(self):\n",
    "        return self.__year\n",
    "    \n",
    "    def set_year(self,nyear):\n",
    "        self.__year=nyear\n",
    "        \n",
    "    def get_make(self):\n",
    "        return self.__make\n",
    "    \n",
    "    def set_make(self,nmake):\n",
    "        self.__make=nmake\n",
    "        \n",
    "        \n",
    "o=car(2023,\"toyota\")\n",
    "print(o.get_year())\n",
    "print(o.get_make(),\"\\n\")\n",
    "\n",
    "\n",
    "o.set_year(2022)\n",
    "o.set_make(\"ford\")\n",
    "       \n",
    "print(o.get_year())\n",
    "print(o.get_make())"
   ]
  },
  {
   "cell_type": "markdown",
   "id": "07f11b19",
   "metadata": {},
   "source": [
    "## Question 5 : What is method overriding in python? Write a python code to demonstrate method overriding\n",
    "---\n",
    "\n",
    "Method overriding is a mechanism in object-oriented programming that allows a subclass to provide its own implementation of a method that is already defined in its superclass. This means that when the method is called on the subclass object, the implementation in the subclass is executed instead of the implementation in the superclass."
   ]
  },
  {
   "cell_type": "code",
   "execution_count": 67,
   "id": "6919749d",
   "metadata": {},
   "outputs": [
    {
     "name": "stdout",
     "output_type": "stream",
     "text": [
      "phone is a useful device \n",
      "car helps in travelling \n"
     ]
    }
   ],
   "source": [
    "class phone :\n",
    "    def function(self):\n",
    "        print(\"phone is a useful device \")\n",
    "        \n",
    "class car :\n",
    "    def function(self):\n",
    "        print(\"car helps in travelling \")\n",
    "        \n",
    "p=phone()\n",
    "c=car()\n",
    "\n",
    "p.function()\n",
    "c.function()"
   ]
  },
  {
   "cell_type": "code",
   "execution_count": null,
   "id": "9a783101",
   "metadata": {},
   "outputs": [],
   "source": []
  }
 ],
 "metadata": {
  "kernelspec": {
   "display_name": "Python 3 (ipykernel)",
   "language": "python",
   "name": "python3"
  },
  "language_info": {
   "codemirror_mode": {
    "name": "ipython",
    "version": 3
   },
   "file_extension": ".py",
   "mimetype": "text/x-python",
   "name": "python",
   "nbconvert_exporter": "python",
   "pygments_lexer": "ipython3",
   "version": "3.10.8"
  }
 },
 "nbformat": 4,
 "nbformat_minor": 5
}
